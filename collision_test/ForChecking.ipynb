{
 "cells": [
  {
   "cell_type": "code",
   "execution_count": 1,
   "metadata": {},
   "outputs": [],
   "source": [
    "vehicle_data = {\n",
    "    'truck0': [[] for _ in range(5)],\n",
    "    'truck1': [[] for _ in range(5)],\n",
    "    'truck2': [[] for _ in range(5)],\n",
    "    'truck3': [[] for _ in range(5)],\n",
    "    'car0': [[] for _ in range(10)],\n",
    "    'car1': [[] for _ in range(10)],\n",
    "    'car2': [[] for _ in range(10)],\n",
    "    'car3': [[] for _ in range(10)],\n",
    "    'car4': [[] for _ in range(10)],\n",
    "    'car5': [[] for _ in range(10)],\n",
    "    'car6': [[] for _ in range(10)],\n",
    "    'car7': [[] for _ in range(10)]\n",
    "}"
   ]
  },
  {
   "cell_type": "code",
   "execution_count": 3,
   "metadata": {},
   "outputs": [],
   "source": [
    "import random\n",
    "random_speed=[]\n",
    "random_acceleration=[]\n",
    "random_deceleration=[]\n",
    "for i in range(200):\n",
    "        random_speed.append(float(random.randint(2777, 3333))/100)\n",
    "        random_acceleration.append(float(random.randint(100,300))/100)\n",
    "        random_deceleration.append(float(random.randint(-300,0))/100)"
   ]
  },
  {
   "cell_type": "code",
   "execution_count": null,
   "metadata": {},
   "outputs": [
    {
     "data": {
      "text/plain": [
       "28.29"
      ]
     },
     "execution_count": 7,
     "metadata": {},
     "output_type": "execute_result"
    }
   ],
   "source": []
  },
  {
   "cell_type": "code",
   "execution_count": null,
   "metadata": {},
   "outputs": [
    {
     "data": {
      "text/plain": [
       "29.95"
      ]
     },
     "execution_count": 8,
     "metadata": {},
     "output_type": "execute_result"
    }
   ],
   "source": []
  },
  {
   "cell_type": "code",
   "execution_count": null,
   "metadata": {},
   "outputs": [],
   "source": []
  }
 ],
 "metadata": {
  "kernelspec": {
   "display_name": "base",
   "language": "python",
   "name": "python3"
  },
  "language_info": {
   "codemirror_mode": {
    "name": "ipython",
    "version": 3
   },
   "file_extension": ".py",
   "mimetype": "text/x-python",
   "name": "python",
   "nbconvert_exporter": "python",
   "pygments_lexer": "ipython3",
   "version": "3.12.7"
  }
 },
 "nbformat": 4,
 "nbformat_minor": 2
}
